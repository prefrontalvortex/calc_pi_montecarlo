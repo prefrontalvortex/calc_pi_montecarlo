{
 "cells": [
  {
   "cell_type": "code",
   "execution_count": 1,
   "metadata": {
    "collapsed": true
   },
   "outputs": [],
   "source": [
    "%matplotlib inline"
   ]
  },
  {
   "cell_type": "code",
   "execution_count": 2,
   "metadata": {
    "collapsed": true
   },
   "outputs": [],
   "source": [
    "import numpy as np, scipy as sp, pandas as pd, matplotlib\n",
    "import matplotlib.pyplot as plt"
   ]
  },
  {
   "cell_type": "code",
   "execution_count": 50,
   "metadata": {
    "collapsed": false
   },
   "outputs": [
    {
     "data": {
      "text/plain": [
       "(100000000, 3)"
      ]
     },
     "execution_count": 50,
     "metadata": {},
     "output_type": "execute_result"
    }
   ],
   "source": [
    "N = int(1E8)\n",
    "# a1 = np.random.rand(N, 1)\n",
    "# a2 = np.random.rand(N, 1)\n",
    "# a3 = np.random.rand(N, 1)\n",
    "# a = np.concatenate([a1**2,a2**2,a3**2], axis=1)\n",
    "a = np.random.rand(N, 3)\n",
    "\n",
    "a.shape"
   ]
  },
  {
   "cell_type": "code",
   "execution_count": 51,
   "metadata": {
    "collapsed": false
   },
   "outputs": [
    {
     "data": {
      "text/plain": [
       "array([[ 0.47782071,  0.28073042,  0.4274686 ],\n",
       "       [ 0.81957182,  0.78583651,  0.37872057],\n",
       "       [ 0.51056336,  0.35640641,  0.14246535],\n",
       "       ..., \n",
       "       [ 0.52943208,  0.53474672,  0.78531299],\n",
       "       [ 0.88011698,  0.919333  ,  0.13698004],\n",
       "       [ 0.91927242,  0.34391472,  0.31696504]])"
      ]
     },
     "execution_count": 51,
     "metadata": {},
     "output_type": "execute_result"
    }
   ],
   "source": [
    "a"
   ]
  },
  {
   "cell_type": "code",
   "execution_count": 52,
   "metadata": {
    "collapsed": false
   },
   "outputs": [
    {
     "data": {
      "text/plain": [
       "array([[ 0.22831263,  0.07880957,  0.18272941],\n",
       "       [ 0.67169797,  0.61753903,  0.14342927],\n",
       "       [ 0.26067495,  0.12702553,  0.02029637],\n",
       "       ..., \n",
       "       [ 0.28029833,  0.28595405,  0.61671649],\n",
       "       [ 0.77460589,  0.84517316,  0.01876353],\n",
       "       [ 0.84506178,  0.11827733,  0.10046683]])"
      ]
     },
     "execution_count": 52,
     "metadata": {},
     "output_type": "execute_result"
    }
   ],
   "source": [
    "b = a**2\n",
    "b"
   ]
  },
  {
   "cell_type": "code",
   "execution_count": 53,
   "metadata": {
    "collapsed": false
   },
   "outputs": [
    {
     "data": {
      "text/plain": [
       "(100000000,)"
      ]
     },
     "execution_count": 53,
     "metadata": {},
     "output_type": "execute_result"
    }
   ],
   "source": [
    "c = np.sum(b, axis=1)\n",
    "c.shape"
   ]
  },
  {
   "cell_type": "code",
   "execution_count": 54,
   "metadata": {
    "collapsed": false
   },
   "outputs": [
    {
     "data": {
      "text/plain": [
       "(52358693, 100000000)"
      ]
     },
     "execution_count": 54,
     "metadata": {},
     "output_type": "execute_result"
    }
   ],
   "source": [
    "d = np.less(c, 1.0)\n",
    "s = np.sum(d)\n",
    "l = len(d)\n",
    "s, l"
   ]
  },
  {
   "cell_type": "code",
   "execution_count": 55,
   "metadata": {
    "collapsed": false
   },
   "outputs": [
    {
     "data": {
      "text/plain": [
       "0.52358693000000001"
      ]
     },
     "execution_count": 55,
     "metadata": {},
     "output_type": "execute_result"
    }
   ],
   "source": [
    "r = np.sum(d) / len(d)\n",
    "r"
   ]
  },
  {
   "cell_type": "code",
   "execution_count": 56,
   "metadata": {
    "collapsed": false
   },
   "outputs": [
    {
     "data": {
      "text/plain": [
       "3.14152158"
      ]
     },
     "execution_count": 56,
     "metadata": {},
     "output_type": "execute_result"
    }
   ],
   "source": [
    "p = r*6\n",
    "p"
   ]
  },
  {
   "cell_type": "code",
   "execution_count": 57,
   "metadata": {
    "collapsed": false
   },
   "outputs": [
    {
     "data": {
      "text/plain": [
       "7.1073589793080316e-05"
      ]
     },
     "execution_count": 57,
     "metadata": {},
     "output_type": "execute_result"
    }
   ],
   "source": [
    "np.pi - p"
   ]
  },
  {
   "cell_type": "code",
   "execution_count": 58,
   "metadata": {
    "collapsed": false
   },
   "outputs": [
    {
     "data": {
      "text/plain": [
       "-4.1482917486077548"
      ]
     },
     "execution_count": 58,
     "metadata": {},
     "output_type": "execute_result"
    }
   ],
   "source": [
    "np.log10(np.pi-p)"
   ]
  },
  {
   "cell_type": "code",
   "execution_count": 75,
   "metadata": {
    "collapsed": true
   },
   "outputs": [],
   "source": [
    "def estimate_pi_log_digits(N, Q=3):\n",
    "    vals = []\n",
    "    for i in range(Q):\n",
    "        N = int(N)\n",
    "        a = np.random.rand(N, 3)\n",
    "        c = np.sum(a**2, axis=1)\n",
    "        d = np.less(c, 1.0)\n",
    "        r = np.sum(d) / len(d)\n",
    "        p = r*6\n",
    "        vals.append(np.log10(np.abs(np.pi-p)))\n",
    "    return np.mean(vals)\n",
    "\n",
    "\n",
    "    "
   ]
  },
  {
   "cell_type": "code",
   "execution_count": 77,
   "metadata": {
    "collapsed": false
   },
   "outputs": [
    {
     "data": {
      "text/plain": [
       "-1.117631306295559"
      ]
     },
     "execution_count": 77,
     "metadata": {},
     "output_type": "execute_result"
    }
   ],
   "source": [
    "estimate_pi_log_digits(100)"
   ]
  },
  {
   "cell_type": "code",
   "execution_count": 91,
   "metadata": {
    "collapsed": false
   },
   "outputs": [
    {
     "data": {
      "text/plain": [
       "array([  1.00000000e+00,   1.19572870e+05,   4.76909309e+05,\n",
       "         1.07201032e+06,   1.90487589e+06,   2.97550604e+06,\n",
       "         4.28390075e+06,   5.83006003e+06,   7.61398388e+06,\n",
       "         9.63567229e+06,   1.18951253e+07,   1.43923428e+07,\n",
       "         1.71273250e+07,   2.01000716e+07,   2.33105829e+07,\n",
       "         2.67588587e+07,   3.04448991e+07,   3.43687041e+07,\n",
       "         3.85302736e+07,   4.29296077e+07,   4.75667064e+07,\n",
       "         5.24415696e+07,   5.75541974e+07,   6.29045898e+07,\n",
       "         6.84927468e+07,   7.43186683e+07,   8.03823544e+07,\n",
       "         8.66838050e+07,   9.32230202e+07,   1.00000000e+08])"
      ]
     },
     "execution_count": 91,
     "metadata": {},
     "output_type": "execute_result"
    }
   ],
   "source": [
    "x = np.linspace(1, 10**4, 30)**2\n",
    "x"
   ]
  },
  {
   "cell_type": "code",
   "execution_count": 92,
   "metadata": {
    "collapsed": true
   },
   "outputs": [],
   "source": [
    "y = [estimate_pi_log_digits(n, 5) for n in x]"
   ]
  },
  {
   "cell_type": "code",
   "execution_count": 93,
   "metadata": {
    "collapsed": false
   },
   "outputs": [],
   "source": [
    "# y"
   ]
  },
  {
   "cell_type": "code",
   "execution_count": 94,
   "metadata": {
    "collapsed": false
   },
   "outputs": [
    {
     "data": {
      "text/plain": [
       "[<matplotlib.lines.Line2D at 0x7efc29a51b38>]"
      ]
     },
     "execution_count": 94,
     "metadata": {},
     "output_type": "execute_result"
    },
    {
     "data": {
      "image/png": "[encoded data removed]",
      "text/plain": [
       "<matplotlib.figure.Figure at 0x7efc29aaad68>"
      ]
     },
     "metadata": {},
     "output_type": "display_data"
    }
   ],
   "source": [
    "plt.plot(x, y)"
   ]
  },
  {
   "cell_type": "code",
   "execution_count": 101,
   "metadata": {
    "collapsed": false
   },
   "outputs": [
    {
     "data": {
      "text/plain": [
       "(30, 2)"
      ]
     },
     "execution_count": 101,
     "metadata": {},
     "output_type": "execute_result"
    }
   ],
   "source": [
    "xy = np.concatenate([x.reshape(-1,1), np.array(y).reshape(-1,1)], axis=1)\n",
    "xy.shape"
   ]
  },
  {
   "cell_type": "code",
   "execution_count": 103,
   "metadata": {
    "collapsed": false
   },
   "outputs": [
    {
     "data": {
      "text/html": [
       "<div>\n",
       "<table border=\"1\" class=\"dataframe\">\n",
       "  <thead>\n",
       "    <tr style=\"text-align: right;\">\n",
       "      <th></th>\n",
       "      <th>N</th>\n",
       "      <th>logD</th>\n",
       "    </tr>\n",
       "  </thead>\n",
       "  <tbody>\n",
       "    <tr>\n",
       "      <th>0</th>\n",
       "      <td>1.000000e+00</td>\n",
       "      <td>0.488945</td>\n",
       "    </tr>\n",
       "    <tr>\n",
       "      <th>1</th>\n",
       "      <td>1.195729e+05</td>\n",
       "      <td>-2.625416</td>\n",
       "    </tr>\n",
       "    <tr>\n",
       "      <th>2</th>\n",
       "      <td>4.769093e+05</td>\n",
       "      <td>-2.210500</td>\n",
       "    </tr>\n",
       "    <tr>\n",
       "      <th>3</th>\n",
       "      <td>1.072010e+06</td>\n",
       "      <td>-2.726228</td>\n",
       "    </tr>\n",
       "    <tr>\n",
       "      <th>4</th>\n",
       "      <td>1.904876e+06</td>\n",
       "      <td>-2.851810</td>\n",
       "    </tr>\n",
       "    <tr>\n",
       "      <th>5</th>\n",
       "      <td>2.975506e+06</td>\n",
       "      <td>-3.189841</td>\n",
       "    </tr>\n",
       "    <tr>\n",
       "      <th>6</th>\n",
       "      <td>4.283901e+06</td>\n",
       "      <td>-3.085466</td>\n",
       "    </tr>\n",
       "    <tr>\n",
       "      <th>7</th>\n",
       "      <td>5.830060e+06</td>\n",
       "      <td>-3.106057</td>\n",
       "    </tr>\n",
       "    <tr>\n",
       "      <th>8</th>\n",
       "      <td>7.613984e+06</td>\n",
       "      <td>-2.933328</td>\n",
       "    </tr>\n",
       "    <tr>\n",
       "      <th>9</th>\n",
       "      <td>9.635672e+06</td>\n",
       "      <td>-3.613588</td>\n",
       "    </tr>\n",
       "    <tr>\n",
       "      <th>10</th>\n",
       "      <td>1.189513e+07</td>\n",
       "      <td>-3.626578</td>\n",
       "    </tr>\n",
       "    <tr>\n",
       "      <th>11</th>\n",
       "      <td>1.439234e+07</td>\n",
       "      <td>-3.206302</td>\n",
       "    </tr>\n",
       "    <tr>\n",
       "      <th>12</th>\n",
       "      <td>1.712732e+07</td>\n",
       "      <td>-3.456905</td>\n",
       "    </tr>\n",
       "    <tr>\n",
       "      <th>13</th>\n",
       "      <td>2.010007e+07</td>\n",
       "      <td>-3.819861</td>\n",
       "    </tr>\n",
       "    <tr>\n",
       "      <th>14</th>\n",
       "      <td>2.331058e+07</td>\n",
       "      <td>-3.196375</td>\n",
       "    </tr>\n",
       "    <tr>\n",
       "      <th>15</th>\n",
       "      <td>2.675886e+07</td>\n",
       "      <td>-3.368209</td>\n",
       "    </tr>\n",
       "    <tr>\n",
       "      <th>16</th>\n",
       "      <td>3.044490e+07</td>\n",
       "      <td>-3.875099</td>\n",
       "    </tr>\n",
       "    <tr>\n",
       "      <th>17</th>\n",
       "      <td>3.436870e+07</td>\n",
       "      <td>-3.698851</td>\n",
       "    </tr>\n",
       "    <tr>\n",
       "      <th>18</th>\n",
       "      <td>3.853027e+07</td>\n",
       "      <td>-3.955483</td>\n",
       "    </tr>\n",
       "    <tr>\n",
       "      <th>19</th>\n",
       "      <td>4.292961e+07</td>\n",
       "      <td>-3.436223</td>\n",
       "    </tr>\n",
       "    <tr>\n",
       "      <th>20</th>\n",
       "      <td>4.756671e+07</td>\n",
       "      <td>-3.615767</td>\n",
       "    </tr>\n",
       "    <tr>\n",
       "      <th>21</th>\n",
       "      <td>5.244157e+07</td>\n",
       "      <td>-3.564635</td>\n",
       "    </tr>\n",
       "    <tr>\n",
       "      <th>22</th>\n",
       "      <td>5.755420e+07</td>\n",
       "      <td>-3.946424</td>\n",
       "    </tr>\n",
       "    <tr>\n",
       "      <th>23</th>\n",
       "      <td>6.290459e+07</td>\n",
       "      <td>-3.667584</td>\n",
       "    </tr>\n",
       "    <tr>\n",
       "      <th>24</th>\n",
       "      <td>6.849275e+07</td>\n",
       "      <td>-3.677164</td>\n",
       "    </tr>\n",
       "    <tr>\n",
       "      <th>25</th>\n",
       "      <td>7.431867e+07</td>\n",
       "      <td>-3.944309</td>\n",
       "    </tr>\n",
       "    <tr>\n",
       "      <th>26</th>\n",
       "      <td>8.038235e+07</td>\n",
       "      <td>-4.305863</td>\n",
       "    </tr>\n",
       "    <tr>\n",
       "      <th>27</th>\n",
       "      <td>8.668380e+07</td>\n",
       "      <td>-3.807504</td>\n",
       "    </tr>\n",
       "    <tr>\n",
       "      <th>28</th>\n",
       "      <td>9.322302e+07</td>\n",
       "      <td>-3.497245</td>\n",
       "    </tr>\n",
       "    <tr>\n",
       "      <th>29</th>\n",
       "      <td>1.000000e+08</td>\n",
       "      <td>-3.533691</td>\n",
       "    </tr>\n",
       "  </tbody>\n",
       "</table>\n",
       "</div>"
      ],
      "text/plain": [
       "               N      logD\n",
       "0   1.000000e+00  0.488945\n",
       "1   1.195729e+05 -2.625416\n",
       "2   4.769093e+05 -2.210500\n",
       "3   1.072010e+06 -2.726228\n",
       "4   1.904876e+06 -2.851810\n",
       "5   2.975506e+06 -3.189841\n",
       "6   4.283901e+06 -3.085466\n",
       "7   5.830060e+06 -3.106057\n",
       "8   7.613984e+06 -2.933328\n",
       "9   9.635672e+06 -3.613588\n",
       "10  1.189513e+07 -3.626578\n",
       "11  1.439234e+07 -3.206302\n",
       "12  1.712732e+07 -3.456905\n",
       "13  2.010007e+07 -3.819861\n",
       "14  2.331058e+07 -3.196375\n",
       "15  2.675886e+07 -3.368209\n",
       "16  3.044490e+07 -3.875099\n",
       "17  3.436870e+07 -3.698851\n",
       "18  3.853027e+07 -3.955483\n",
       "19  4.292961e+07 -3.436223\n",
       "20  4.756671e+07 -3.615767\n",
       "21  5.244157e+07 -3.564635\n",
       "22  5.755420e+07 -3.946424\n",
       "23  6.290459e+07 -3.667584\n",
       "24  6.849275e+07 -3.677164\n",
       "25  7.431867e+07 -3.944309\n",
       "26  8.038235e+07 -4.305863\n",
       "27  8.668380e+07 -3.807504\n",
       "28  9.322302e+07 -3.497245\n",
       "29  1.000000e+08 -3.533691"
      ]
     },
     "execution_count": 103,
     "metadata": {},
     "output_type": "execute_result"
    }
   ],
   "source": [
    "df = pd.DataFrame(xy, columns=['N', 'logD'])\n",
    "df"
   ]
  },
  {
   "cell_type": "code",
   "execution_count": 104,
   "metadata": {
    "collapsed": true
   },
   "outputs": [],
   "source": [
    "df.to_csv('pi_N_vs_logD')"
   ]
  },
  {
   "cell_type": "code",
   "execution_count": null,
   "metadata": {
    "collapsed": true
   },
   "outputs": [],
   "source": []
  }
 ],
 "metadata": {
  "kernelspec": {
   "display_name": "Python 3",
   "language": "python",
   "name": "python3"
  },
  "language_info": {
   "codemirror_mode": {
    "name": "ipython",
    "version": 3
   },
   "file_extension": ".py",
   "mimetype": "text/x-python",
   "name": "python",
   "nbconvert_exporter": "python",
   "pygments_lexer": "ipython3",
   "version": "3.5.2"
  }
 },
 "nbformat": 4,
 "nbformat_minor": 0
}
